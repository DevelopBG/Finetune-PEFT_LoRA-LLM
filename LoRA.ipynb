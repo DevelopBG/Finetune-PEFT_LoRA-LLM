{
 "cells": [
  {
   "cell_type": "code",
   "execution_count": null,
   "id": "16b9d55e",
   "metadata": {},
   "outputs": [],
   "source": [
    "!pip install datasets\n",
    "!pip install transformers\n",
    "!pip install peft\n",
    "!pip install evaluate"
   ]
  },
  {
   "cell_type": "code",
   "execution_count": null,
   "id": "d0839e8e",
   "metadata": {},
   "outputs": [],
   "source": [
    "from datasets import load_dataset, DatasetDict,Dataset\n",
    "from transformers import (\n",
    "    AutoTokenizer,\n",
    "    AutoConfig,\n",
    "    AutoModelForSequenceClassification,\n",
    "    DataCollatorWithPadding,\n",
    "    TrainingArguments,\n",
    "    Trainer\n",
    ")\n",
    "from peft import PeftModel, PeftConfig, get_peft_model, LoraConfig\n",
    "import evaluate\n",
    "import torch\n",
    "import numpy as np"
   ]
  },
  {
   "cell_type": "code",
   "execution_count": null,
   "id": "2699d4b0",
   "metadata": {},
   "outputs": [],
   "source": [
    "# the standford sentiment treebank. the task to predict the sentiment of a giver sentence\n",
    "dataset = load_dataset(\"glue\", \"sst2\")\n",
    "dataset"
   ]
  },
  {
   "cell_type": "code",
   "execution_count": null,
   "id": "418a2ed0",
   "metadata": {},
   "outputs": [],
   "source": [
    "model_checkpoint = 'roberta-base'\n",
    "\n",
    "# define label maps\n",
    "id_label = {0:\"negative\",1:\"positive\"}\n",
    "label_id = {\"negative\":0, \"positive\":1}\n",
    "# generate classificaition model form model checkpoint\n",
    "\n",
    "Robertamodel = AutoModelForSequenceClassification.from_pretrained(\n",
    "    model_checkpoint,\n",
    "    num_labels=2,\n",
    "    id2label=id_label,\n",
    "    label2id=label_id\n",
    ")\n",
    "\n",
    "Robertamodel"
   ]
  },
  {
   "cell_type": "code",
   "execution_count": null,
   "id": "25f71bbc",
   "metadata": {},
   "outputs": [],
   "source": [
    "# creating tokenizer\n",
    "\n",
    "tokenizer = AutoTokenizer.from_pretrained(model_checkpoint, add_prefix_space=True)\n",
    "# add pad token if none exists\n",
    "if tokenizer.pad_token is None:\n",
    "  tokenizer.add_special_tokens({'pad_token':'[PAD]'})\n",
    "  Robertamodel.resize_token_embeddings(len(tokenizer))"
   ]
  },
  {
   "cell_type": "code",
   "execution_count": null,
   "id": "20e97dae",
   "metadata": {},
   "outputs": [],
   "source": [
    "# create tokenizer function\n",
    "def tokenize_function(examples):\n",
    "  # extract text\n",
    "  text = examples['sentence']\n",
    "  #tokenize and truncate text\n",
    "  tokenizer.truncatioin_side='left'\n",
    "  tokenized_inputs = tokenizer(\n",
    "      text,return_tensors = 'np',\n",
    "      truncation = True,\n",
    "      max_length = 512\n",
    "  )\n",
    "  return tokenized_inputs"
   ]
  },
  {
   "cell_type": "code",
   "execution_count": null,
   "id": "0f70c3d7",
   "metadata": {},
   "outputs": [],
   "source": [
    "# tokenize training and validation datasets\n",
    "tokenized_dataset= dataset.map(tokenize_function, batched=True)\n",
    "tokenized_dataset"
   ]
  },
  {
   "cell_type": "code",
   "execution_count": null,
   "id": "3a1f5e1c",
   "metadata": {},
   "outputs": [],
   "source": [
    "# create data collator\n",
    "data_collator = DataCollatorWithPadding(tokenizer= tokenizer)\n"
   ]
  },
  {
   "cell_type": "code",
   "execution_count": null,
   "id": "02c60241",
   "metadata": {},
   "outputs": [],
   "source": [
    "accuracy = evaluate.load('accuracy')\n",
    "\n",
    "# define an evaluation function to pass into trainer later\n",
    "\n",
    "def compute_metrics(p):\n",
    "  predictions, labels = p\n",
    "  predictions = np.argmax(predictions, axis=1)\n",
    "  return {\"accuracy\":accuracy.compute(predictions=predictions, references = labels)}\n"
   ]
  },
  {
   "cell_type": "code",
   "execution_count": null,
   "id": "f5a2684c",
   "metadata": {},
   "outputs": [],
   "source": [
    "# lisst of examples\n",
    "text_list = [\"The movie was a breathtaking masterpiece that kept me hooked from start to finish.\",\n",
    "             \"The plot was predictable and painfully slow.\",\n",
    "             \"I regret wasting two hours on this boring film.\",\n",
    "             \"The performances were outstanding, especially the lead actor’s emotional depth.\",\n",
    "             \"The visuals and soundtrack made the film an unforgettable experience.\"]\n",
    "print(\"Untrained model predictions\")\n",
    "print(\"-------------------\")\n",
    "for text in text_list:\n",
    "  inputs = tokenizer.encode(text, return_tensors='pt')\n",
    "  logits = Robertamodel(inputs).logits\n",
    "  predictions = torch.argmax(logits)\n",
    "  print(text + \"-\" + id_label[predictions.tolist()])"
   ]
  },
  {
   "cell_type": "code",
   "execution_count": null,
   "id": "c481abe3",
   "metadata": {},
   "outputs": [],
   "source": [
    "# Robertamodel.unload()\n",
    "peft_config = LoraConfig(task_type=\"SEQ_CLS\",\n",
    "                         r = 1,\n",
    "                         lora_alpha = 32,\n",
    "                         lora_dropout = 0.01,\n",
    "                         target_modules = ['query'])"
   ]
  },
  {
   "cell_type": "code",
   "execution_count": null,
   "id": "1ebea225",
   "metadata": {},
   "outputs": [],
   "source": [
    "model = get_peft_model(Robertamodel, peft_config)\n",
    "model.print_trainable_parameters()"
   ]
  },
  {
   "cell_type": "code",
   "execution_count": null,
   "id": "934f41e4",
   "metadata": {},
   "outputs": [],
   "source": [
    "lr = 1e-3\n",
    "batch_size = 16\n",
    "num_epochs = 1"
   ]
  },
  {
   "cell_type": "code",
   "execution_count": null,
   "id": "c160f34b",
   "metadata": {},
   "outputs": [],
   "source": [
    "training_args = TrainingArguments(\n",
    "    output_dir = model_checkpoint+'-lora-text-classification',\n",
    "    learning_rate = lr,\n",
    "    per_device_train_batch_size = batch_size,\n",
    "    per_device_eval_batch_size = batch_size,\n",
    "    num_train_epochs = num_epochs,\n",
    "    weight_decay = 0.01,\n",
    "    # save_strategy = 'epoch',\n",
    "    # evaluation_strategy = 'epoch',\n",
    "    # load_best_model_at_end = True\n",
    "    # # load_best_model_at_end = True\n",
    "    )"
   ]
  },
  {
   "cell_type": "code",
   "execution_count": null,
   "id": "c86904cd",
   "metadata": {},
   "outputs": [],
   "source": [
    "trainer = Trainer(\n",
    "    model = Robertamodel,\n",
    "    args = training_args,\n",
    "    train_dataset = tokenized_dataset['train'],\n",
    "    eval_dataset = tokenized_dataset['validation'],\n",
    "    tokenizer = tokenizer,\n",
    "    data_collator = data_collator,\n",
    "    compute_metrics = compute_metrics\n",
    ")"
   ]
  },
  {
   "cell_type": "code",
   "execution_count": null,
   "id": "b4b805fe",
   "metadata": {},
   "outputs": [],
   "source": [
    "trainer.train()"
   ]
  },
  {
   "cell_type": "code",
   "execution_count": null,
   "id": "064c7c47",
   "metadata": {},
   "outputs": [],
   "source": [
    "# trained model prediction\n",
    "Robertamodel.to(\"cpu\")\n",
    "for text in text_list:\n",
    "  inputs = tokenizer.encode(text, return_tensors = 'pt').to('cpu')\n",
    "  logits = Robertamodel(inputs).logits\n",
    "  predictions = torch.argmax(logits)\n",
    "  print(text + \"-\" + id_label[predictions.tolist()])"
   ]
  },
  {
   "cell_type": "code",
   "execution_count": null,
   "id": "4cce0931",
   "metadata": {},
   "outputs": [],
   "source": []
  }
 ],
 "metadata": {
  "language_info": {
   "name": "python"
  }
 },
 "nbformat": 4,
 "nbformat_minor": 5
}
